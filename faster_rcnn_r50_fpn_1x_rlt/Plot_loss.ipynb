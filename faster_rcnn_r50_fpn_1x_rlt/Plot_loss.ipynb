{
 "cells": [
  {
   "cell_type": "code",
   "execution_count": 9,
   "metadata": {},
   "outputs": [
    {
     "ename": "KeyError",
     "evalue": "'loss'",
     "output_type": "error",
     "traceback": [
      "\u001b[1;31m---------------------------------------------------------------------------\u001b[0m",
      "\u001b[1;31mKeyError\u001b[0m                                  Traceback (most recent call last)",
      "\u001b[1;32mc:\\Users\\ritua\\Documents\\GitHub\\AI-to-detect-refrigeration-and-air-conditioning-on-Sa-satellite-images\\work_dirs\\faster_rcnn_r50_fpn_1x_rlt\\Plot_loss.ipynb Cell 1\u001b[0m in \u001b[0;36m<cell line: 8>\u001b[1;34m()\u001b[0m\n\u001b[0;32m      <a href='vscode-notebook-cell:/c%3A/Users/ritua/Documents/GitHub/AI-to-detect-refrigeration-and-air-conditioning-on-Sa-satellite-images/work_dirs/faster_rcnn_r50_fpn_1x_rlt/Plot_loss.ipynb#W0sZmlsZQ%3D%3D?line=5'>6</a>\u001b[0m losses \u001b[39m=\u001b[39m []\n\u001b[0;32m      <a href='vscode-notebook-cell:/c%3A/Users/ritua/Documents/GitHub/AI-to-detect-refrigeration-and-air-conditioning-on-Sa-satellite-images/work_dirs/faster_rcnn_r50_fpn_1x_rlt/Plot_loss.ipynb#W0sZmlsZQ%3D%3D?line=7'>8</a>\u001b[0m \u001b[39mfor\u001b[39;00m elem \u001b[39min\u001b[39;00m data:\n\u001b[1;32m----> <a href='vscode-notebook-cell:/c%3A/Users/ritua/Documents/GitHub/AI-to-detect-refrigeration-and-air-conditioning-on-Sa-satellite-images/work_dirs/faster_rcnn_r50_fpn_1x_rlt/Plot_loss.ipynb#W0sZmlsZQ%3D%3D?line=8'>9</a>\u001b[0m     \u001b[39mif\u001b[39;00m(elem[\u001b[39m\"\u001b[39;49m\u001b[39mloss\u001b[39;49m\u001b[39m\"\u001b[39;49m]):\n\u001b[0;32m     <a href='vscode-notebook-cell:/c%3A/Users/ritua/Documents/GitHub/AI-to-detect-refrigeration-and-air-conditioning-on-Sa-satellite-images/work_dirs/faster_rcnn_r50_fpn_1x_rlt/Plot_loss.ipynb#W0sZmlsZQ%3D%3D?line=9'>10</a>\u001b[0m         losses\u001b[39m.\u001b[39mappend(elem[\u001b[39m\"\u001b[39m\u001b[39mloss\u001b[39m\u001b[39m\"\u001b[39m])\n\u001b[0;32m     <a href='vscode-notebook-cell:/c%3A/Users/ritua/Documents/GitHub/AI-to-detect-refrigeration-and-air-conditioning-on-Sa-satellite-images/work_dirs/faster_rcnn_r50_fpn_1x_rlt/Plot_loss.ipynb#W0sZmlsZQ%3D%3D?line=10'>11</a>\u001b[0m \u001b[39mimport\u001b[39;00m \u001b[39mmatplotlib\u001b[39;00m\u001b[39m.\u001b[39;00m\u001b[39mpyplot\u001b[39;00m \u001b[39mas\u001b[39;00m \u001b[39mplt\u001b[39;00m\n",
      "\u001b[1;31mKeyError\u001b[0m: 'loss'"
     ]
    }
   ],
   "source": [
    "\n",
    "import json\n",
    "\n",
    "with open('20220919_143613.log.json', 'r') as f:\n",
    "  data = json.load(f)\n",
    "\n",
    "losses = []\n",
    "\n",
    "for elem in data:\n",
    "    if \"loss\" in elem:\n",
    "        losses.append(elem[\"loss\"])\n",
    "import matplotlib.pyplot as plt\n",
    "plt.plot(losses)\n",
    "plt.ylabel('losses')\n",
    "plt.show()"
   ]
  }
 ],
 "metadata": {
  "kernelspec": {
   "display_name": "Python 3.9.13 ('openmmlab')",
   "language": "python",
   "name": "python3"
  },
  "language_info": {
   "codemirror_mode": {
    "name": "ipython",
    "version": 3
   },
   "file_extension": ".py",
   "mimetype": "text/x-python",
   "name": "python",
   "nbconvert_exporter": "python",
   "pygments_lexer": "ipython3",
   "version": "3.9.13"
  },
  "orig_nbformat": 4,
  "vscode": {
   "interpreter": {
    "hash": "a2bd79c2bb15cddd8f3b7d7b3da8eeb3b31b68b17140b1ea5bc562d08397c937"
   }
  }
 },
 "nbformat": 4,
 "nbformat_minor": 2
}
